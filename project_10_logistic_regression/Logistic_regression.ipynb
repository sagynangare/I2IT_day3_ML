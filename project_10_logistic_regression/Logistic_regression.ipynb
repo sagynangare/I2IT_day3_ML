{
 "cells": [
  {
   "cell_type": "code",
   "execution_count": 1,
   "metadata": {},
   "outputs": [],
   "source": [
    "# Step 1 - Load Data\n",
    "import pandas as pd\n",
    "dataset = pd.read_csv(\"iphone_purchase_records.csv\")\n",
    "X = dataset.iloc[:,:-1].values\n",
    "y = dataset.iloc[:, 3].values"
   ]
  },
  {
   "cell_type": "code",
   "execution_count": 2,
   "metadata": {},
   "outputs": [
    {
     "data": {
      "text/html": [
       "<div>\n",
       "<style scoped>\n",
       "    .dataframe tbody tr th:only-of-type {\n",
       "        vertical-align: middle;\n",
       "    }\n",
       "\n",
       "    .dataframe tbody tr th {\n",
       "        vertical-align: top;\n",
       "    }\n",
       "\n",
       "    .dataframe thead th {\n",
       "        text-align: right;\n",
       "    }\n",
       "</style>\n",
       "<table border=\"1\" class=\"dataframe\">\n",
       "  <thead>\n",
       "    <tr style=\"text-align: right;\">\n",
       "      <th></th>\n",
       "      <th>Gender</th>\n",
       "      <th>Age</th>\n",
       "      <th>Salary</th>\n",
       "      <th>Purchase Iphone</th>\n",
       "    </tr>\n",
       "  </thead>\n",
       "  <tbody>\n",
       "    <tr>\n",
       "      <th>0</th>\n",
       "      <td>Male</td>\n",
       "      <td>19</td>\n",
       "      <td>19000</td>\n",
       "      <td>0</td>\n",
       "    </tr>\n",
       "    <tr>\n",
       "      <th>1</th>\n",
       "      <td>Male</td>\n",
       "      <td>35</td>\n",
       "      <td>20000</td>\n",
       "      <td>0</td>\n",
       "    </tr>\n",
       "    <tr>\n",
       "      <th>2</th>\n",
       "      <td>Female</td>\n",
       "      <td>26</td>\n",
       "      <td>43000</td>\n",
       "      <td>0</td>\n",
       "    </tr>\n",
       "    <tr>\n",
       "      <th>3</th>\n",
       "      <td>Female</td>\n",
       "      <td>27</td>\n",
       "      <td>57000</td>\n",
       "      <td>0</td>\n",
       "    </tr>\n",
       "    <tr>\n",
       "      <th>4</th>\n",
       "      <td>Male</td>\n",
       "      <td>19</td>\n",
       "      <td>76000</td>\n",
       "      <td>0</td>\n",
       "    </tr>\n",
       "  </tbody>\n",
       "</table>\n",
       "</div>"
      ],
      "text/plain": [
       "   Gender  Age  Salary  Purchase Iphone\n",
       "0    Male   19   19000                0\n",
       "1    Male   35   20000                0\n",
       "2  Female   26   43000                0\n",
       "3  Female   27   57000                0\n",
       "4    Male   19   76000                0"
      ]
     },
     "execution_count": 2,
     "metadata": {},
     "output_type": "execute_result"
    }
   ],
   "source": [
    "dataset.head()"
   ]
  },
  {
   "cell_type": "code",
   "execution_count": 3,
   "metadata": {},
   "outputs": [],
   "source": [
    "# Step 2 - Convert Gender to number\n",
    "from sklearn.preprocessing import LabelEncoder\n",
    "labelEncoder_gender =  LabelEncoder()\n",
    "X[:,0] = labelEncoder_gender.fit_transform(X[:,0])\n"
   ]
  },
  {
   "cell_type": "code",
   "execution_count": 4,
   "metadata": {},
   "outputs": [
    {
     "data": {
      "text/plain": [
       "array([[1, 19, 19000],\n",
       "       [1, 35, 20000],\n",
       "       [0, 26, 43000],\n",
       "       ...,\n",
       "       [0, 50, 20000],\n",
       "       [1, 36, 33000],\n",
       "       [0, 49, 36000]], dtype=object)"
      ]
     },
     "execution_count": 4,
     "metadata": {},
     "output_type": "execute_result"
    }
   ],
   "source": [
    "X"
   ]
  },
  {
   "cell_type": "code",
   "execution_count": 5,
   "metadata": {},
   "outputs": [],
   "source": [
    "# Step 3 - Split Data into training and testing\n",
    "from sklearn.model_selection import train_test_split\n",
    "X_train, X_test, y_train, y_test = train_test_split(X, y, test_size=0.25, random_state=0)\n"
   ]
  },
  {
   "cell_type": "code",
   "execution_count": 6,
   "metadata": {},
   "outputs": [],
   "source": [
    "# Step 4 - Feature Scaling\n",
    "from sklearn.preprocessing import StandardScaler\n",
    "sc = StandardScaler()\n",
    "X_train = sc.fit_transform(X_train)\n",
    "X_test = sc.transform(X_test)"
   ]
  },
  {
   "cell_type": "code",
   "execution_count": 7,
   "metadata": {},
   "outputs": [
    {
     "data": {
      "text/plain": [
       "LogisticRegression(C=1.0, class_weight=None, dual=False, fit_intercept=True,\n",
       "                   intercept_scaling=1, l1_ratio=None, max_iter=100,\n",
       "                   multi_class='auto', n_jobs=None, penalty='l2',\n",
       "                   random_state=0, solver='liblinear', tol=0.0001, verbose=0,\n",
       "                   warm_start=False)"
      ]
     },
     "execution_count": 7,
     "metadata": {},
     "output_type": "execute_result"
    }
   ],
   "source": [
    "# Step 5 - Logistic Regression Classifier\n",
    "from sklearn.linear_model import LogisticRegression\n",
    "classifier = LogisticRegression(random_state=0, solver=\"liblinear\")\n",
    "classifier.fit(X_train, y_train)\n"
   ]
  },
  {
   "cell_type": "code",
   "execution_count": 9,
   "metadata": {},
   "outputs": [
    {
     "data": {
      "text/plain": [
       "array([0, 0, 0, 0, 0, 0, 0, 1, 0, 1, 0, 0, 0, 0, 0, 0, 0, 0, 1, 0, 0, 1,\n",
       "       0, 1, 0, 1, 0, 0, 0, 0, 0, 0, 1, 0, 0, 0, 0, 0, 0, 1, 0, 0, 0, 0,\n",
       "       1, 0, 0, 1, 0, 1, 1, 0, 0, 0, 1, 0, 0, 0, 1, 0, 0, 1, 0, 0, 0, 1,\n",
       "       0, 0, 0, 0, 1, 0, 0, 0, 0, 0, 1, 0, 1, 1, 1, 1, 0, 0, 1, 1, 0, 1,\n",
       "       0, 0, 0, 1, 0, 0, 0, 0, 0, 1, 1, 1], dtype=int64)"
      ]
     },
     "execution_count": 9,
     "metadata": {},
     "output_type": "execute_result"
    }
   ],
   "source": [
    "\n",
    "# Step 6 - Predict\n",
    "y_pred = classifier.predict(X_test)\n",
    "y_pred"
   ]
  },
  {
   "cell_type": "code",
   "execution_count": 10,
   "metadata": {},
   "outputs": [
    {
     "name": "stdout",
     "output_type": "stream",
     "text": [
      "[[65  3]\n",
      " [ 6 26]]\n"
     ]
    }
   ],
   "source": [
    "# Step 7 - Confusion Matrix\n",
    "from sklearn import metrics\n",
    "cm = metrics.confusion_matrix(y_test, y_pred) \n",
    "print(cm)"
   ]
  },
  {
   "cell_type": "code",
   "execution_count": 11,
   "metadata": {},
   "outputs": [
    {
     "name": "stdout",
     "output_type": "stream",
     "text": [
      "Accuracy score: 0.91\n"
     ]
    }
   ],
   "source": [
    "accuracy = metrics.accuracy_score(y_test, y_pred) \n",
    "print(\"Accuracy score:\",accuracy)"
   ]
  },
  {
   "cell_type": "code",
   "execution_count": 12,
   "metadata": {},
   "outputs": [
    {
     "name": "stdout",
     "output_type": "stream",
     "text": [
      "Precision score: 0.896551724137931\n"
     ]
    }
   ],
   "source": [
    "precision = metrics.precision_score(y_test, y_pred) \n",
    "print(\"Precision score:\",precision)"
   ]
  },
  {
   "cell_type": "code",
   "execution_count": 13,
   "metadata": {},
   "outputs": [
    {
     "name": "stdout",
     "output_type": "stream",
     "text": [
      "Recall score: 0.8125\n"
     ]
    }
   ],
   "source": [
    "recall = metrics.recall_score(y_test, y_pred) \n",
    "print(\"Recall score:\",recall)"
   ]
  },
  {
   "cell_type": "code",
   "execution_count": 14,
   "metadata": {},
   "outputs": [],
   "source": [
    "# Step 8 - Make New Predictions\n",
    "x1 = sc.transform([[1,21,40000]])\n",
    "x2 = sc.transform([[1,21,80000]])\n",
    "x3 = sc.transform([[0,21,40000]])\n",
    "x4 = sc.transform([[0,21,80000]])\n",
    "x5 = sc.transform([[1,41,40000]])\n",
    "x6 = sc.transform([[1,41,80000]])\n",
    "x7 = sc.transform([[0,41,40000]])\n",
    "x8 = sc.transform([[0,41,80000]])\n"
   ]
  },
  {
   "cell_type": "code",
   "execution_count": 15,
   "metadata": {},
   "outputs": [
    {
     "name": "stdout",
     "output_type": "stream",
     "text": [
      "Male aged 21 making $40k will buy iPhone: [0]\n",
      "Male aged 21 making $80k will buy iPhone: [0]\n",
      "Female aged 21 making $40k will buy iPhone: [0]\n",
      "Female aged 21 making $80k will buy iPhone: [0]\n",
      "Male aged 41 making $40k will buy iPhone: [0]\n",
      "Male aged 41 making $80k will buy iPhone: [1]\n",
      "Female aged 41 making $40k will buy iPhone: [0]\n",
      "Female aged 41 making $80k will buy iPhone: [0]\n"
     ]
    }
   ],
   "source": [
    "print(\"Male aged 21 making $40k will buy iPhone:\", classifier.predict(x1))\n",
    "print(\"Male aged 21 making $80k will buy iPhone:\", classifier.predict(x2))\n",
    "print(\"Female aged 21 making $40k will buy iPhone:\", classifier.predict(x3))\n",
    "print(\"Female aged 21 making $80k will buy iPhone:\", classifier.predict(x4))\n",
    "print(\"Male aged 41 making $40k will buy iPhone:\", classifier.predict(x5))\n",
    "print(\"Male aged 41 making $80k will buy iPhone:\", classifier.predict(x6))\n",
    "print(\"Female aged 41 making $40k will buy iPhone:\", classifier.predict(x7))\n",
    "print(\"Female aged 41 making $80k will buy iPhone:\", classifier.predict(x8))\n"
   ]
  },
  {
   "cell_type": "code",
   "execution_count": null,
   "metadata": {},
   "outputs": [],
   "source": []
  }
 ],
 "metadata": {
  "kernelspec": {
   "display_name": "Python 3",
   "language": "python",
   "name": "python3"
  },
  "language_info": {
   "codemirror_mode": {
    "name": "ipython",
    "version": 3
   },
   "file_extension": ".py",
   "mimetype": "text/x-python",
   "name": "python",
   "nbconvert_exporter": "python",
   "pygments_lexer": "ipython3",
   "version": "3.7.4"
  }
 },
 "nbformat": 4,
 "nbformat_minor": 4
}
